{
 "cells": [
  {
   "cell_type": "code",
   "execution_count": 1,
   "id": "f00fa953",
   "metadata": {},
   "outputs": [],
   "source": [
    "from flask import Flask, jsonify \n",
    "from flask_restful import Resource, Api , reqparse\n",
    "import pandas as pd "
   ]
  },
  {
   "cell_type": "code",
   "execution_count": 2,
   "id": "e3f801e9",
   "metadata": {},
   "outputs": [],
   "source": [
    "app=Flask(__name__)\n",
    "api=Api(app)"
   ]
  },
  {
   "cell_type": "code",
   "execution_count": 3,
   "id": "e959fc8c",
   "metadata": {},
   "outputs": [
    {
     "data": {
      "text/plain": [
       "<flask_restful.reqparse.RequestParser at 0x24b330ea6d0>"
      ]
     },
     "execution_count": 3,
     "metadata": {},
     "output_type": "execute_result"
    }
   ],
   "source": [
    "data_arg=reqparse.RequestParser()\n",
    "data_arg.add_argument(\"ID\" , type=int, location='form')\n",
    "data_arg.add_argument(\"StartDate\" , type=str, location='form')\n",
    "data_arg.add_argument(\"EndDate\" , type=str, location='form')\n",
    "data_arg.add_argument(\"Status\" , type=str, location='form')\n",
    "data_arg.add_argument(\"IPAddress\" , type=str, location='form')\n",
    "data_arg.add_argument(\"Progress\" , type=int, location='form')\n",
    "data_arg.add_argument(\"Finished\" , type=int, location='form')"
   ]
  },
  {
   "cell_type": "code",
   "execution_count": 4,
   "id": "80620fa3",
   "metadata": {},
   "outputs": [],
   "source": [
    "class read(Resource):\n",
    "    def __init__(self):\n",
    "        # read csv file\n",
    "        self.data = pd.read_csv('dataset_test.csv')\n",
    "    # GET request on the url will hit this function\n",
    "    def get(self,ID):\n",
    "        # find data from csv based on user input\n",
    "        data_fount=self.data.loc[self.data['ID'] == ID].to_json(orient=\"records\")\n",
    "        # return data found in csv\n",
    "        return jsonify({'message': data_fount})\n",
    "   "
   ]
  },
  {
   "cell_type": "code",
   "execution_count": 5,
   "id": "a27460b7",
   "metadata": {},
   "outputs": [],
   "source": [
    "class delete(Resource):\n",
    "    def __init__(self):\n",
    "        # read csv file\n",
    "        self.data = pd.read_csv('dataset_test.csv')\n",
    "    def delete(self,ID):\n",
    "        if ((self.data['ID'] == ID).any()):\n",
    "            # Id it present delete data from csv\n",
    "            self.data = self.data.drop(self.data[\"ID\"].loc[self.data[\"ID\"] == ID].index)\n",
    "            self.data.to_csv(\"dataset_test.csv\", index=False)\n",
    "            return jsonify({\"message\": 'Deleted successfully'})\n",
    "        else:\n",
    "            return jsonify({\"message\": 'Not Present'})"
   ]
  },
  {
   "cell_type": "code",
   "execution_count": 6,
   "id": "886e3436",
   "metadata": {},
   "outputs": [],
   "source": [
    "class add(Resource):\n",
    "    def __init__(self):\n",
    "        # read data from csv\n",
    "        self.data = pd.read_csv('dataset_test.csv')\n",
    "\n",
    "    # POST request on the url will hit this function\n",
    "    def post(self):\n",
    "        # data parser to parse data from url\n",
    "        args = data_arg.parse_args()\n",
    "        # if ID is already present\n",
    "        if((self.data['ID']==args.ID).any()):\n",
    "            return jsonify({\"message\": 'ID already exist'})\n",
    "        else:\n",
    "            # Save data to csv\n",
    "            self.data= self.data.append(args, ignore_index=True)\n",
    "            self.data.to_csv(\"dataset_test.csv\", index=False)\n",
    "            return jsonify({\"message\": 'Record Added Sucessfully'})\n"
   ]
  },
  {
   "cell_type": "code",
   "execution_count": 7,
   "id": "dbf0c193",
   "metadata": {},
   "outputs": [],
   "source": [
    "class update(Resource):\n",
    "    def __init__(self):\n",
    "        # read data from csv\n",
    "        self.data = pd.read_csv('dataset_test.csv')\n",
    " \n",
    "    # PUT request on the url will hit this function\n",
    "    def put(self):\n",
    "        args = data_arg.parse_args()\n",
    "        if ((self.data['ID'] == args.ID).any()):\n",
    "            # if ID already present Update it\n",
    "            self.data=self.data.drop(self.data[\"ID\"].loc[self.data[\"ID\"] == args.ID].index)\n",
    "            self.data = self.data.append(args, ignore_index=True)\n",
    "            self.data.to_csv(\"dataset_test.csv\", index=False)\n",
    "            return jsonify({\"message\": 'Updated successfully'})\n",
    "        else:\n",
    "            # If ID not present Save that data to csv\n",
    "            self.data = self.data.append(args, ignore_index=True)\n",
    "            self.data.to_csv(\"dataset_test.csv\", index=False)\n",
    "            return jsonify({\"message\": 'successfully Created'})"
   ]
  },
  {
   "cell_type": "code",
   "execution_count": 8,
   "id": "226a5c69",
   "metadata": {},
   "outputs": [],
   "source": [
    "@app.route('/getlatlong', methods=['GET'])\n",
    "def getlatlong():\n",
    "    # find data from csv based on user input\n",
    "    df = pd.read_csv('dataset_test.csv')\n",
    "    #sd = df[[\"LocationLatitude\",\"LocationLongitude\"]]\n",
    "    data_fount=df.to_json(orient=\"table\")\n",
    "    #data_fount=sd.to_json(orient=\"values\")\n",
    "    # return data found in csv\n",
    "    return jsonify(data_fount)"
   ]
  },
  {
   "cell_type": "code",
   "execution_count": 9,
   "id": "11577975",
   "metadata": {},
   "outputs": [],
   "source": [
    "@app.route('/getrecord/<int:ID>', methods=['GET'])\n",
    "def getrecord(ID):\n",
    "    data = pd.read_csv('dataset_test.csv')\n",
    "    data_fount=data.loc[data['ID'] == ID].to_json(orient=\"records\")\n",
    "    return jsonify({'message': data_fount})"
   ]
  },
  {
   "cell_type": "code",
   "execution_count": 10,
   "id": "e14d0f56",
   "metadata": {},
   "outputs": [],
   "source": [
    "@app.route('/deleterecord/<int:ID>', methods=['DELETE'])\n",
    "def deleterecord(ID):\n",
    "    data = pd.read_csv('dataset_test.csv')\n",
    "    if ((data['ID'] == ID).any()):\n",
    "        data = data.drop(data[\"ID\"].loc[data[\"ID\"] == ID].index)\n",
    "        data.to_csv(\"dataset_test.csv\", index=False)\n",
    "        return jsonify({\"message\": 'Record Deleted successfully'})\n",
    "    else:\n",
    "        return jsonify({\"message\": 'ID does not exist '})"
   ]
  },
  {
   "cell_type": "code",
   "execution_count": 11,
   "id": "30996813",
   "metadata": {},
   "outputs": [],
   "source": [
    "@app.route('/addrecord', methods=['POST'])\n",
    "def addrecord():\n",
    "    data = pd.read_csv('dataset_test.csv')\n",
    "    args = data_arg.parse_args()\n",
    "    \n",
    "    # if ID is already exist\n",
    "    if((data['ID']==args.ID).any()):\n",
    "        return jsonify({\"message\": 'ID already exist'})\n",
    "    else:\n",
    "        data= data.append(args, ignore_index=True)\n",
    "        data.to_csv(\"dataset_test.csv\", index=False)\n",
    "        return jsonify({\"message\": 'Record Added Sucessfully'})\n"
   ]
  },
  {
   "cell_type": "code",
   "execution_count": 12,
   "id": "6ffc7880",
   "metadata": {},
   "outputs": [],
   "source": [
    "@app.route('/updaterecord', methods=['PUT'])\n",
    "def updaterecord():\n",
    "        data = pd.read_csv('dataset_test.csv')\n",
    "        args = data_arg.parse_args()\n",
    "        if ((data['ID'] == args.ID).any()):\n",
    "            # if ID already present Update it\n",
    "            data=data.drop(data[\"ID\"].loc[data[\"ID\"] == args.ID].index)\n",
    "            data =data.append(args, ignore_index=True)\n",
    "            data.to_csv(\"dataset_test.csv\", index=False)\n",
    "            return jsonify({\"message\": 'Updated successfully'})\n",
    "        else:\n",
    "            # If ID not present Save that data to csv\n",
    "            data = data.append(args, ignore_index=True)\n",
    "            data.to_csv(\"dataset_test.csv\", index=False)\n",
    "            return jsonify({\"message\": 'successfully Created'})"
   ]
  },
  {
   "cell_type": "code",
   "execution_count": null,
   "id": "a0c331be",
   "metadata": {},
   "outputs": [
    {
     "name": "stdout",
     "output_type": "stream",
     "text": [
      " * Serving Flask app '__main__'\n",
      " * Debug mode: on\n"
     ]
    },
    {
     "name": "stderr",
     "output_type": "stream",
     "text": [
      "WARNING: This is a development server. Do not use it in a production deployment. Use a production WSGI server instead.\n",
      " * Running on http://127.0.0.1:5000\n",
      "Press CTRL+C to quit\n",
      "127.0.0.1 - - [18/Nov/2022 10:49:39] \"POST /updaterecord HTTP/1.1\" 405 -\n",
      "C:\\Users\\franklin.louis\\AppData\\Local\\Temp\\ipykernel_5800\\3455438381.py:8: FutureWarning: The frame.append method is deprecated and will be removed from pandas in a future version. Use pandas.concat instead.\n",
      "  data =data.append(args, ignore_index=True)\n",
      "127.0.0.1 - - [18/Nov/2022 10:49:44] \"PUT /updaterecord HTTP/1.1\" 200 -\n",
      "C:\\Users\\franklin.louis\\AppData\\Local\\Temp\\ipykernel_5800\\3455438381.py:13: FutureWarning: The frame.append method is deprecated and will be removed from pandas in a future version. Use pandas.concat instead.\n",
      "  data = data.append(args, ignore_index=True)\n",
      "127.0.0.1 - - [18/Nov/2022 10:49:59] \"PUT /updaterecord HTTP/1.1\" 200 -\n"
     ]
    }
   ],
   "source": [
    "api.add_resource(read,'/get/<int:ID>')\n",
    "api.add_resource(delete, '/delete/<int:ID>')\n",
    "api.add_resource(add, '/add')\n",
    "api.add_resource(update, '/update')\n",
    "\n",
    "if __name__ == '__main__':\n",
    "    #app.run(debug=True)\n",
    "    app.run(debug=True, use_reloader=False)"
   ]
  },
  {
   "cell_type": "code",
   "execution_count": null,
   "id": "8d04c7b8",
   "metadata": {},
   "outputs": [],
   "source": []
  },
  {
   "cell_type": "code",
   "execution_count": null,
   "id": "904be3d6",
   "metadata": {},
   "outputs": [],
   "source": []
  }
 ],
 "metadata": {
  "kernelspec": {
   "display_name": "Python 3 (ipykernel)",
   "language": "python",
   "name": "python3"
  },
  "language_info": {
   "codemirror_mode": {
    "name": "ipython",
    "version": 3
   },
   "file_extension": ".py",
   "mimetype": "text/x-python",
   "name": "python",
   "nbconvert_exporter": "python",
   "pygments_lexer": "ipython3",
   "version": "3.8.13"
  }
 },
 "nbformat": 4,
 "nbformat_minor": 5
}
