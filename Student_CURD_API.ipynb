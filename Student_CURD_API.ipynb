{
 "cells": [
  {
   "cell_type": "code",
   "execution_count": 10,
   "id": "515d82a9",
   "metadata": {},
   "outputs": [],
   "source": [
    "import numpy as np\n",
    "import pandas as pd\n",
    "\n",
    "from fastapi import FastAPI, Response\n",
    "from pydantic import BaseModel\n",
    "from loguru import logger\n",
    "app = FastAPI()\n",
    "\n",
    "#@app.get(\"/my-first-api\")\n",
    "#def hello():\n",
    "#  return {\"Hello world!\"}\n",
    "\n"
   ]
  },
  {
   "cell_type": "code",
   "execution_count": 12,
   "id": "49a9f61d",
   "metadata": {},
   "outputs": [],
   "source": [
    "df = pd.read_csv('dataset_clean.csv')\n",
    "#df.rename( columns={'Unnamed: 0':'sno'}, inplace=True )\n",
    "#df[\"sno\"]  \n",
    "#df.info()"
   ]
  },
  {
   "cell_type": "code",
   "execution_count": 13,
   "id": "809dc07c",
   "metadata": {},
   "outputs": [
    {
     "name": "stdout",
     "output_type": "stream",
     "text": [
      "     LocationLatitude  LocationLongitude\n",
      "0             39.1397           -86.5141\n",
      "1             41.8874           -87.6318\n",
      "2             39.1707           -86.5190\n",
      "3             39.1707           -86.5190\n",
      "4             39.1707           -86.5190\n",
      "..                ...                ...\n",
      "217           39.1215           -86.5784\n",
      "218           39.1397           -86.5141\n",
      "219           39.1397           -86.5141\n",
      "220           39.1397           -86.5141\n",
      "221               NaN                NaN\n",
      "\n",
      "[222 rows x 2 columns]\n"
     ]
    }
   ],
   "source": [
    "print(df[[\"LocationLatitude\",\"LocationLongitude\"]])\n"
   ]
  },
  {
   "cell_type": "code",
   "execution_count": 14,
   "id": "f2fc811b",
   "metadata": {},
   "outputs": [],
   "source": [
    "@app.get(\"/studentLatLong\")\n",
    "async def getStudLatLong():\n",
    "    df1 = df.fillna('')\n",
    "   \n",
    "    latlong ={\"location\" : [df1[[\"LocationLatitude\",\"LocationLongitude\"]]]}\n",
    "    #latlong = df1[[\"LocationLatitude\",\"LocationLongitude\"]]\n",
    "    #latlong = df1[[\"LocationLatitude\",\"LocationLongitude\"]]\n",
    "    return latlong\n",
    "    "
   ]
  },
  {
   "cell_type": "code",
   "execution_count": 4,
   "id": "3ec7f73e",
   "metadata": {},
   "outputs": [],
   "source": [
    "@app.get(\"/studentLatLong\")\n",
    "async def getStudLatLong():\n",
    "    df1 = df.fillna('')\n",
    "   \n",
    "    #latlong ={\"location\" : [df1[[\"LocationLatitude\",\"LocationLongitude\"]]]}\n",
    "    #latlong = df1[[\"LocationLatitude\",\"LocationLongitude\"]]\n",
    "    #latlong = df1[[\"LocationLatitude\",\"LocationLongitude\"]]\n",
    "    #latlong = df1[\"LocationLatitude\"] + \":\" + df1[\"LocationLongitude\"]\n",
    "    #latlong =df1[\"LocationLatitude\"].astype(str) + \":\" + df1[\"LocationLongitude\"].astype(str)\n",
    "    \n",
    "    latlong ={\"location\" : df1[\"LocationLatitude\"].astype(str) + \":\" + df1[\"LocationLongitude\"].astype(str)}\n",
    "    return latlong"
   ]
  },
  {
   "cell_type": "code",
   "execution_count": 4,
   "id": "7e839393",
   "metadata": {},
   "outputs": [
    {
     "data": {
      "text/plain": [
       "[    LocationLatitude LocationLongitude\n",
       " 0            39.1397          -86.5141\n",
       " 1            41.8874          -87.6318\n",
       " 2            41.8874          -87.6318\n",
       " 3            39.1707           -86.519\n",
       " 4            39.1707           -86.519\n",
       " ..               ...               ...\n",
       " 217          39.1707           -86.519\n",
       " 218          39.1215          -86.5784\n",
       " 219          39.1397          -86.5141\n",
       " 220          39.1397          -86.5141\n",
       " 221          39.1397          -86.5141\n",
       " \n",
       " [222 rows x 2 columns]]"
      ]
     },
     "execution_count": 4,
     "metadata": {},
     "output_type": "execute_result"
    }
   ],
   "source": [
    "df1 = df.fillna('')\n",
    "latlong = list([df1[[\"LocationLatitude\",\"LocationLongitude\"]]])\n",
    "latlong"
   ]
  },
  {
   "cell_type": "code",
   "execution_count": 15,
   "id": "810e002c",
   "metadata": {},
   "outputs": [
    {
     "data": {
      "text/plain": [
       "<NgrokTunnel: \"http://a6b4-172-124-246-212.ngrok.io\" -> \"http://localhost:8000\">"
      ]
     },
     "execution_count": 15,
     "metadata": {},
     "output_type": "execute_result"
    }
   ],
   "source": [
    "from pyngrok import ngrok\n",
    "ngrok_tunnel = ngrok.connect(8000)\n",
    "ngrok_tunnel"
   ]
  },
  {
   "cell_type": "code",
   "execution_count": 16,
   "id": "57a2feb7",
   "metadata": {},
   "outputs": [
    {
     "name": "stderr",
     "output_type": "stream",
     "text": [
      "INFO:     Started server process [18364]\n",
      "INFO:     Waiting for application startup.\n",
      "INFO:     Application startup complete.\n",
      "INFO:     Uvicorn running on http://127.0.0.1:8000 (Press CTRL+C to quit)\n",
      "INFO:     Shutting down\n",
      "INFO:     Waiting for application shutdown.\n",
      "INFO:     Application shutdown complete.\n",
      "INFO:     Finished server process [18364]\n"
     ]
    }
   ],
   "source": [
    "import nest_asyncio\n",
    "import uvicorn\n",
    "\n",
    "nest_asyncio.apply()\n",
    "uvicorn.run(app, port=8000)"
   ]
  },
  {
   "cell_type": "code",
   "execution_count": null,
   "id": "dd74af78",
   "metadata": {},
   "outputs": [],
   "source": []
  }
 ],
 "metadata": {
  "kernelspec": {
   "display_name": "Python 3 (ipykernel)",
   "language": "python",
   "name": "python3"
  },
  "language_info": {
   "codemirror_mode": {
    "name": "ipython",
    "version": 3
   },
   "file_extension": ".py",
   "mimetype": "text/x-python",
   "name": "python",
   "nbconvert_exporter": "python",
   "pygments_lexer": "ipython3",
   "version": "3.8.13"
  }
 },
 "nbformat": 4,
 "nbformat_minor": 5
}
