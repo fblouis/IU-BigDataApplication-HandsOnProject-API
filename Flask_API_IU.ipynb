{
 "cells": [
  {
   "cell_type": "code",
   "execution_count": 1,
   "id": "33aea7d5",
   "metadata": {},
   "outputs": [],
   "source": [
    "from flask import Flask, jsonify \n",
    "from flask_restful import Resource, Api , reqparse\n",
    "import pandas as pd "
   ]
  },
  {
   "cell_type": "code",
   "execution_count": 2,
   "id": "3952b6f2",
   "metadata": {},
   "outputs": [],
   "source": [
    "app=Flask(__name__)\n",
    "api=Api(app)"
   ]
  },
  {
   "cell_type": "code",
   "execution_count": 3,
   "id": "a88c35a1",
   "metadata": {},
   "outputs": [
    {
     "data": {
      "text/plain": [
       "<flask_restful.reqparse.RequestParser at 0x190f416b0d0>"
      ]
     },
     "execution_count": 3,
     "metadata": {},
     "output_type": "execute_result"
    }
   ],
   "source": [
    "data_arg=reqparse.RequestParser()\n",
    "data_arg.add_argument(\"ID\" , type=int, location='form')\n",
    "data_arg.add_argument(\"StartDate\" , type=str, location='form')\n",
    "data_arg.add_argument(\"EndDate\" , type=str, location='form')\n",
    "data_arg.add_argument(\"Status\" , type=str, location='form')\n",
    "data_arg.add_argument(\"IPAddress\" , type=str, location='form')\n",
    "data_arg.add_argument(\"Progress\" , type=int, location='form')\n",
    "data_arg.add_argument(\"Finished\" , type=int, location='form')"
   ]
  },
  {
   "cell_type": "code",
   "execution_count": 4,
   "id": "4179f721",
   "metadata": {},
   "outputs": [],
   "source": [
    "class read_Delete(Resource):\n",
    "    def __init__(self):\n",
    "        # read csv file\n",
    "        self.data = pd.read_csv('dataset_test.csv')\n",
    "    # GET request on the url will hit this function\n",
    "    def get(self,ID):\n",
    "        # find data from csv based on user input\n",
    "        data_fount=self.data.loc[self.data['ID'] == ID].to_json(orient=\"records\")\n",
    "        # return data found in csv\n",
    "        return jsonify({'message': data_fount})\n",
    "    # Delete request on the url will hit this function\n",
    "    def delete(self,ID):\n",
    "        if ((self.data['ID'] == ID).any()):\n",
    "            # Id it present delete data from csv\n",
    "            self.data = self.data.drop(self.data[\"ID\"].loc[self.data[\"ID\"] == ID].index)\n",
    "            self.data.to_csv(\"dataset_test.csv\", index=False)\n",
    "            return jsonify({\"message\": 'Deleted successfully'})\n",
    "        else:\n",
    "            return jsonify({\"message\": 'Not Present'})"
   ]
  },
  {
   "cell_type": "code",
   "execution_count": 5,
   "id": "bdba9651",
   "metadata": {},
   "outputs": [],
   "source": [
    "class Create_Update(Resource):\n",
    "    def __init__(self):\n",
    "        # read data from csv\n",
    "        self.data = pd.read_csv('dataset_test.csv')\n",
    "\n",
    "    # POST request on the url will hit this function\n",
    "    def post(self):\n",
    "        # data parser to parse data from url\n",
    "        args = data_arg.parse_args()\n",
    "        # if ID is already present\n",
    "        if((self.data['ID']==args.ID).any()):\n",
    "            return jsonify({\"message\": 'ID already exist'})\n",
    "        else:\n",
    "            # Save data to csv\n",
    "            self.data= self.data.append(args, ignore_index=True)\n",
    "            self.data.to_csv(\"dataset_test.csv\", index=False)\n",
    "            return jsonify({\"message\": 'Record Added Sucessfully'})\n",
    "\n",
    "    # PUT request on the url will hit this function\n",
    "    def put(self):\n",
    "        args = data_arg.parse_args()\n",
    "        if ((self.data['ID'] == args.ID).any()):\n",
    "            # if ID already present Update it\n",
    "            self.data=self.data.drop(self.data[\"ID\"].loc[self.data[\"ID\"] == args.ID].index)\n",
    "            self.data = self.data.append(args, ignore_index=True)\n",
    "            self.data.to_csv(\"dataset_test.csv\", index=False)\n",
    "            return jsonify({\"message\": 'Updated successfully'})\n",
    "        else:\n",
    "            # If ID not present Save that data to csv\n",
    "            self.data = self.data.append(args, ignore_index=True)\n",
    "            self.data.to_csv(\"dataset_test.csv\", index=False)\n",
    "            return jsonify({\"message\": 'successfully Created'})"
   ]
  },
  {
   "cell_type": "code",
   "execution_count": 6,
   "id": "554f1ead",
   "metadata": {},
   "outputs": [],
   "source": [
    "incomes = [\n",
    "    { 'description': 'salary', 'amount': 5000 }\n",
    "]\n",
    "\n",
    "@app.route('/incomes', methods=['GET'])\n",
    "def incomes_fun():\n",
    "    return jsonify(incomes)"
   ]
  },
  {
   "cell_type": "code",
   "execution_count": 7,
   "id": "ab0e4d79",
   "metadata": {},
   "outputs": [],
   "source": [
    "@app.route('/deleterecord', methods=['GET'])\n",
    "def delete(self,ID):\n",
    "    guide = Guide.query.get(ID)\n",
    "    #if ((self.data['ID'] == ID).any()):\n",
    "        # Id it present delete data from csv\n",
    "        #self.data = self.data.drop(self.data[\"ID\"].loc[self.data[\"ID\"] == ID].index)\n",
    "        #self.data.to_csv(\"dataset_test.csv\", index=False)\n",
    "    return jsonify({\"message\": 'Deleted successfully'})\n",
    "    #else:\n",
    "        #return jsonify({\"message\": 'Not Present'})"
   ]
  },
  {
   "cell_type": "code",
   "execution_count": 8,
   "id": "8d6dfb3b",
   "metadata": {},
   "outputs": [],
   "source": [
    "api.add_resource(read_Delete, '/<int:ID>')\n",
    "api.add_resource(Create_Update,'/')"
   ]
  },
  {
   "cell_type": "code",
   "execution_count": 9,
   "id": "8d38918d",
   "metadata": {},
   "outputs": [
    {
     "name": "stdout",
     "output_type": "stream",
     "text": [
      " * Serving Flask app '__main__'\n",
      " * Debug mode: on\n"
     ]
    },
    {
     "name": "stderr",
     "output_type": "stream",
     "text": [
      "WARNING: This is a development server. Do not use it in a production deployment. Use a production WSGI server instead.\n",
      " * Running on http://127.0.0.1:5000\n",
      "Press CTRL+C to quit\n",
      "127.0.0.1 - - [17/Nov/2022 21:56:25] \"GET /deleterecord?ID=999 HTTP/1.1\" 500 -\n",
      "Traceback (most recent call last):\n",
      "  File \"C:\\Users\\franklin.louis\\AppData\\Roaming\\Python\\Python38\\site-packages\\flask\\app.py\", line 2548, in __call__\n",
      "    return self.wsgi_app(environ, start_response)\n",
      "  File \"C:\\Users\\franklin.louis\\AppData\\Roaming\\Python\\Python38\\site-packages\\flask\\app.py\", line 2528, in wsgi_app\n",
      "    response = self.handle_exception(e)\n",
      "  File \"C:\\Users\\franklin.louis\\Anaconda3\\envs\\dviz\\lib\\site-packages\\flask_restful\\__init__.py\", line 271, in error_router\n",
      "    return original_handler(e)\n",
      "  File \"C:\\Users\\franklin.louis\\AppData\\Roaming\\Python\\Python38\\site-packages\\flask\\app.py\", line 2525, in wsgi_app\n",
      "    response = self.full_dispatch_request()\n",
      "  File \"C:\\Users\\franklin.louis\\AppData\\Roaming\\Python\\Python38\\site-packages\\flask\\app.py\", line 1822, in full_dispatch_request\n",
      "    rv = self.handle_user_exception(e)\n",
      "  File \"C:\\Users\\franklin.louis\\Anaconda3\\envs\\dviz\\lib\\site-packages\\flask_restful\\__init__.py\", line 271, in error_router\n",
      "    return original_handler(e)\n",
      "  File \"C:\\Users\\franklin.louis\\AppData\\Roaming\\Python\\Python38\\site-packages\\flask\\app.py\", line 1820, in full_dispatch_request\n",
      "    rv = self.dispatch_request()\n",
      "  File \"C:\\Users\\franklin.louis\\AppData\\Roaming\\Python\\Python38\\site-packages\\flask\\app.py\", line 1796, in dispatch_request\n",
      "    return self.ensure_sync(self.view_functions[rule.endpoint])(**view_args)\n",
      "TypeError: delete() missing 2 required positional arguments: 'self' and 'ID'\n",
      "127.0.0.1 - - [17/Nov/2022 21:56:25] \"GET /deleterecord?__debugger__=yes&cmd=resource&f=style.css HTTP/1.1\" 304 -\n",
      "127.0.0.1 - - [17/Nov/2022 21:56:25] \"GET /deleterecord?__debugger__=yes&cmd=resource&f=debugger.js HTTP/1.1\" 304 -\n",
      "127.0.0.1 - - [17/Nov/2022 21:56:25] \"GET /deleterecord?__debugger__=yes&cmd=resource&f=console.png HTTP/1.1\" 304 -\n",
      "127.0.0.1 - - [17/Nov/2022 21:56:25] \"GET /deleterecord?__debugger__=yes&cmd=resource&f=console.png HTTP/1.1\" 304 -\n"
     ]
    }
   ],
   "source": [
    "if __name__ == '__main__':\n",
    "    #app.run(debug=True)\n",
    "    app.run(debug=True, use_reloader=False)"
   ]
  },
  {
   "cell_type": "code",
   "execution_count": null,
   "id": "81a2d026",
   "metadata": {},
   "outputs": [],
   "source": []
  }
 ],
 "metadata": {
  "kernelspec": {
   "display_name": "dviz",
   "language": "python",
   "name": "dviz"
  },
  "language_info": {
   "codemirror_mode": {
    "name": "ipython",
    "version": 3
   },
   "file_extension": ".py",
   "mimetype": "text/x-python",
   "name": "python",
   "nbconvert_exporter": "python",
   "pygments_lexer": "ipython3",
   "version": "3.8.13"
  }
 },
 "nbformat": 4,
 "nbformat_minor": 5
}
